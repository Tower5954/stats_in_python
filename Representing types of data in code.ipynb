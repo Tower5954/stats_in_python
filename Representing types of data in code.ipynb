{
 "cells": [
  {
   "cell_type": "markdown",
   "metadata": {},
   "source": [
    "# Representing types of data in code"
   ]
  },
  {
   "cell_type": "code",
   "execution_count": 1,
   "metadata": {},
   "outputs": [],
   "source": [
    "## Create variables of different types (classes)\n",
    "\n",
    "\n",
    "# data numerical (here as a list)\n",
    "num_list = [1, 7, 17, 1717]\n",
    "\n",
    "\n",
    "# character / string\n",
    "chardata = \"charazard\"\n",
    "\n",
    "\n",
    "# boolean (aka logical)\n",
    "logitdata = True\n",
    "\n",
    "\n",
    "# a list can be used like a matlab cell\n",
    "list_data = [[3, 4, 34], 'hello', 4]\n",
    "\n",
    "\n",
    "# dict\n",
    "dict_data = {}\n",
    "dict_data[\"Name\"] = \"Grant\"\n",
    "dict_data[\"Age\"] = 40\n",
    "dict_data[\"Profession\"] = \"Security\""
   ]
  },
  {
   "cell_type": "code",
   "execution_count": 2,
   "metadata": {},
   "outputs": [
    {
     "data": {
      "text/plain": [
       "{'Name': 'Grant', 'Age': 40, 'Profession': 'Security'}"
      ]
     },
     "execution_count": 2,
     "metadata": {},
     "output_type": "execute_result"
    }
   ],
   "source": [
    "dict_data"
   ]
  },
  {
   "cell_type": "code",
   "execution_count": 3,
   "metadata": {},
   "outputs": [
    {
     "name": "stdout",
     "output_type": "stream",
     "text": [
      "chardata\t dict_data\t list_data\t logitdata\t num_list\t \n"
     ]
    }
   ],
   "source": [
    "# See what the workspace looks like\n",
    "%who"
   ]
  },
  {
   "cell_type": "code",
   "execution_count": 4,
   "metadata": {},
   "outputs": [
    {
     "name": "stdout",
     "output_type": "stream",
     "text": [
      "Variable    Type    Data/Info\n",
      "-----------------------------\n",
      "chardata    str     charazard\n",
      "dict_data   dict    n=3\n",
      "list_data   list    n=3\n",
      "logitdata   bool    True\n",
      "num_list    list    n=4\n"
     ]
    }
   ],
   "source": [
    "%whos"
   ]
  },
  {
   "cell_type": "code",
   "execution_count": 7,
   "metadata": {},
   "outputs": [],
   "source": [
    "# clear the Python workspace\n",
    "%reset -sf"
   ]
  },
  {
   "cell_type": "code",
   "execution_count": 8,
   "metadata": {},
   "outputs": [
    {
     "name": "stdout",
     "output_type": "stream",
     "text": [
      "Interactive namespace is empty.\n"
     ]
    }
   ],
   "source": [
    "%whos"
   ]
  },
  {
   "cell_type": "code",
   "execution_count": null,
   "metadata": {},
   "outputs": [],
   "source": []
  }
 ],
 "metadata": {
  "kernelspec": {
   "display_name": "Python 3",
   "language": "python",
   "name": "python3"
  },
  "language_info": {
   "codemirror_mode": {
    "name": "ipython",
    "version": 3
   },
   "file_extension": ".py",
   "mimetype": "text/x-python",
   "name": "python",
   "nbconvert_exporter": "python",
   "pygments_lexer": "ipython3",
   "version": "3.8.5"
  }
 },
 "nbformat": 4,
 "nbformat_minor": 4
}
