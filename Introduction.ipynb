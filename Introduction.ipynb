{
 "cells": [
  {
   "cell_type": "markdown",
   "metadata": {},
   "source": [
    "# Section: Introduction"
   ]
  },
  {
   "cell_type": "code",
   "execution_count": 1,
   "metadata": {},
   "outputs": [],
   "source": [
    "# Import necessary packages\n",
    "import matplotlib.pyplot as plt\n",
    "import numpy as np\n",
    "import scipy.stats as stats"
   ]
  },
  {
   "cell_type": "code",
   "execution_count": 2,
   "metadata": {},
   "outputs": [],
   "source": [
    "## This section is for parameters that you can specify\n",
    "\n",
    "# Specify the average of two groups\n",
    "average_group_1 = 40\n",
    "average_group_2 = 45\n",
    "\n",
    "# The amount of individual variability (same for both groups)\n",
    "standard_deviation = 5.6\n",
    "\n",
    "# Sample size for both groups\n",
    "samples_group_1 = 40\n",
    "samples_group_2 = 35"
   ]
  },
  {
   "cell_type": "code",
   "execution_count": 4,
   "metadata": {},
   "outputs": [],
   "source": [
    "## This section generates the data\n",
    "\n",
    "data_grp_1 = np.random.randn(samples_group_1) * standard_deviation + average_group_1\n",
    "data_grp_2 = np.random.randn(samples_group_2) * standard_deviation + average_group_2\n",
    "\n",
    "# convenient collection of sample sizes\n",
    "ns = [samples_group_1, samples_group_2]\n",
    "\n",
    "datalims = [np.min(np.hstack((data_grp_1, data_grp_2))), np.max(np.hstack((data_grp_1, data_grp_2)))]"
   ]
  },
  {
   "cell_type": "code",
   "execution_count": 7,
   "metadata": {},
   "outputs": [
    {
     "data": {
      "image/png": "[encoded data removed]",
      "text/plain": [
       "<Figure size 432x144 with 2 Axes>"
      ]
     },
     "metadata": {
      "needs_background": "light"
     },
     "output_type": "display_data"
    }
   ],
   "source": [
    "## This section is for data visualisation\n",
    "\n",
    "fig, ax = plt.subplots(1,2, figsize=(6,2))\n",
    "\n",
    "ax[0].violinplot(data_grp_1)\n",
    "ax[0].plot(1 + np.random.randn(samples_group_1)/10, data_grp_1, 'ko')\n",
    "ax[0].set_ylim(datalims)\n",
    "ax[0].axis('off')\n",
    "\n",
    "ax[1].violinplot(data_grp_2)\n",
    "ax[1].plot(1 + np.random.randn(samples_group_2)/10, data_grp_2, 'ko')\n",
    "ax[1].set_ylim(datalims)\n",
    "ax[1].axis('off')\n",
    "\n",
    "# 2-group t-test\n",
    "t, p = stats.ttest_ind(data_grp_1, data_grp_2)\n",
    "\n",
    "# Print the information to the title\n",
    "sigtxt = ('', ' NOT')\n",
    "plt.title(\"The two groups are%s significantly different! t(%g)=%g, p=%g\" %(sigtxt[int(p>.05)], sum(ns)-2,np.round(t,2),np.round(p,3)))\n",
    "plt.show()"
   ]
  },
  {
   "cell_type": "code",
   "execution_count": null,
   "metadata": {},
   "outputs": [],
   "source": []
  },
  {
   "cell_type": "code",
   "execution_count": null,
   "metadata": {},
   "outputs": [],
   "source": []
  }
 ],
 "metadata": {
  "kernelspec": {
   "display_name": "Python 3",
   "language": "python",
   "name": "python3"
  },
  "language_info": {
   "codemirror_mode": {
    "name": "ipython",
    "version": 3
   },
   "file_extension": ".py",
   "mimetype": "text/x-python",
   "name": "python",
   "nbconvert_exporter": "python",
   "pygments_lexer": "ipython3",
   "version": "3.8.5"
  }
 },
 "nbformat": 4,
 "nbformat_minor": 4
}
